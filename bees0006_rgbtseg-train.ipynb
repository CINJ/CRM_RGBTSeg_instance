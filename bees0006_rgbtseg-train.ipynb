{
 "cells": [
  {
   "cell_type": "code",
   "execution_count": 1,
   "id": "b9d6da51-afc3-46d9-a3e5-b027fe9db1a0",
   "metadata": {},
   "outputs": [
    {
     "name": "stderr",
     "output_type": "stream",
     "text": [
      "/opt/conda/envs/bees0006-rgbtseg/lib/python3.10/site-packages/mmcv/__init__.py:20: UserWarning: On January 1, 2023, MMCV will release v2.0.0, in which it will remove components related to the training process and add a data transformation module. In addition, it will rename the package names mmcv to mmcv-lite and mmcv-full to mmcv. See https://github.com/open-mmlab/mmcv/blob/master/docs/en/compatibility.md for more details.\n",
      "  warnings.warn(\n",
      "Loading config ./configs/PV1dataset/swin/../Base-PV1dataset-InstanceSegmentation.yaml with yaml.unsafe_load. Your machine may be at risk if the file contains malicious content.\n",
      "Config './configs/PV1dataset/swin/CRM_swin_base_224.yaml' has no VERSION. Assuming it to be compatible with latest v2.\n",
      "Global seed set to 1024\n",
      "/opt/conda/envs/bees0006-rgbtseg/lib/python3.10/site-packages/torch/functional.py:504: UserWarning: torch.meshgrid: in an upcoming release, it will be required to pass the indexing argument. (Triggered internally at /opt/conda/conda-bld/pytorch_1670525552843/work/aten/src/ATen/native/TensorShape.cpp:3190.)\n",
      "  return _VF.meshgrid(tensors, **kwargs)  # type: ignore[attr-defined]\n"
     ]
    },
    {
     "name": "stdout",
     "output_type": "stream",
     "text": [
      "Now training with ./configs/PV1dataset/swin/CRM_swin_base_224.yaml...\n"
     ]
    },
    {
     "name": "stderr",
     "output_type": "stream",
     "text": [
      "Some model parameters or buffers are not found in the checkpoint:\n",
      "\u001b[34mnetwork.backbone.RGB_branch.mask_token\u001b[0m\n",
      "\u001b[34mnetwork.backbone.RGB_branch.norm0.{bias, weight}\u001b[0m\n",
      "\u001b[34mnetwork.backbone.RGB_branch.norm1.{bias, weight}\u001b[0m\n",
      "\u001b[34mnetwork.backbone.RGB_branch.norm2.{bias, weight}\u001b[0m\n",
      "\u001b[34mnetwork.backbone.RGB_branch.norm3.{bias, weight}\u001b[0m\n",
      "\u001b[34mnetwork.backbone.THR_branch.mask_token\u001b[0m\n",
      "\u001b[34mnetwork.backbone.THR_branch.norm0.{bias, weight}\u001b[0m\n",
      "\u001b[34mnetwork.backbone.THR_branch.norm1.{bias, weight}\u001b[0m\n",
      "\u001b[34mnetwork.backbone.THR_branch.norm2.{bias, weight}\u001b[0m\n",
      "\u001b[34mnetwork.backbone.THR_branch.norm3.{bias, weight}\u001b[0m\n",
      "\u001b[34mnetwork.backbone.norm_layers.res2.{bias, running_mean, running_var, weight}\u001b[0m\n",
      "\u001b[34mnetwork.backbone.norm_layers.res3.{bias, running_mean, running_var, weight}\u001b[0m\n",
      "\u001b[34mnetwork.backbone.norm_layers.res4.{bias, running_mean, running_var, weight}\u001b[0m\n",
      "\u001b[34mnetwork.backbone.norm_layers.res5.{bias, running_mean, running_var, weight}\u001b[0m\n",
      "\u001b[34mnetwork.criterion.empty_weight\u001b[0m\n",
      "\u001b[34mnetwork.sem_seg_head.pixel_decoder.adapter_1.norm.{bias, weight}\u001b[0m\n",
      "\u001b[34mnetwork.sem_seg_head.pixel_decoder.adapter_1.weight\u001b[0m\n",
      "\u001b[34mnetwork.sem_seg_head.pixel_decoder.input_proj.0.0.{bias, weight}\u001b[0m\n",
      "\u001b[34mnetwork.sem_seg_head.pixel_decoder.input_proj.0.1.{bias, weight}\u001b[0m\n",
      "\u001b[34mnetwork.sem_seg_head.pixel_decoder.input_proj.1.0.{bias, weight}\u001b[0m\n",
      "\u001b[34mnetwork.sem_seg_head.pixel_decoder.input_proj.1.1.{bias, weight}\u001b[0m\n",
      "\u001b[34mnetwork.sem_seg_head.pixel_decoder.input_proj.2.0.{bias, weight}\u001b[0m\n",
      "\u001b[34mnetwork.sem_seg_head.pixel_decoder.input_proj.2.1.{bias, weight}\u001b[0m\n",
      "\u001b[34mnetwork.sem_seg_head.pixel_decoder.layer_1.norm.{bias, weight}\u001b[0m\n",
      "\u001b[34mnetwork.sem_seg_head.pixel_decoder.layer_1.weight\u001b[0m\n",
      "\u001b[34mnetwork.sem_seg_head.pixel_decoder.mask_features.{bias, weight}\u001b[0m\n",
      "\u001b[34mnetwork.sem_seg_head.pixel_decoder.transformer.encoder.layers.0.linear1.{bias, weight}\u001b[0m\n",
      "\u001b[34mnetwork.sem_seg_head.pixel_decoder.transformer.encoder.layers.0.linear2.{bias, weight}\u001b[0m\n",
      "\u001b[34mnetwork.sem_seg_head.pixel_decoder.transformer.encoder.layers.0.norm1.{bias, weight}\u001b[0m\n",
      "\u001b[34mnetwork.sem_seg_head.pixel_decoder.transformer.encoder.layers.0.norm2.{bias, weight}\u001b[0m\n",
      "\u001b[34mnetwork.sem_seg_head.pixel_decoder.transformer.encoder.layers.0.self_attn.attention_weights.{bias, weight}\u001b[0m\n",
      "\u001b[34mnetwork.sem_seg_head.pixel_decoder.transformer.encoder.layers.0.self_attn.output_proj.{bias, weight}\u001b[0m\n",
      "\u001b[34mnetwork.sem_seg_head.pixel_decoder.transformer.encoder.layers.0.self_attn.sampling_offsets.{bias, weight}\u001b[0m\n",
      "\u001b[34mnetwork.sem_seg_head.pixel_decoder.transformer.encoder.layers.0.self_attn.value_proj.{bias, weight}\u001b[0m\n",
      "\u001b[34mnetwork.sem_seg_head.pixel_decoder.transformer.encoder.layers.1.linear1.{bias, weight}\u001b[0m\n",
      "\u001b[34mnetwork.sem_seg_head.pixel_decoder.transformer.encoder.layers.1.linear2.{bias, weight}\u001b[0m\n",
      "\u001b[34mnetwork.sem_seg_head.pixel_decoder.transformer.encoder.layers.1.norm1.{bias, weight}\u001b[0m\n",
      "\u001b[34mnetwork.sem_seg_head.pixel_decoder.transformer.encoder.layers.1.norm2.{bias, weight}\u001b[0m\n",
      "\u001b[34mnetwork.sem_seg_head.pixel_decoder.transformer.encoder.layers.1.self_attn.attention_weights.{bias, weight}\u001b[0m\n",
      "\u001b[34mnetwork.sem_seg_head.pixel_decoder.transformer.encoder.layers.1.self_attn.output_proj.{bias, weight}\u001b[0m\n",
      "\u001b[34mnetwork.sem_seg_head.pixel_decoder.transformer.encoder.layers.1.self_attn.sampling_offsets.{bias, weight}\u001b[0m\n",
      "\u001b[34mnetwork.sem_seg_head.pixel_decoder.transformer.encoder.layers.1.self_attn.value_proj.{bias, weight}\u001b[0m\n",
      "\u001b[34mnetwork.sem_seg_head.pixel_decoder.transformer.encoder.layers.2.linear1.{bias, weight}\u001b[0m\n",
      "\u001b[34mnetwork.sem_seg_head.pixel_decoder.transformer.encoder.layers.2.linear2.{bias, weight}\u001b[0m\n",
      "\u001b[34mnetwork.sem_seg_head.pixel_decoder.transformer.encoder.layers.2.norm1.{bias, weight}\u001b[0m\n",
      "\u001b[34mnetwork.sem_seg_head.pixel_decoder.transformer.encoder.layers.2.norm2.{bias, weight}\u001b[0m\n",
      "\u001b[34mnetwork.sem_seg_head.pixel_decoder.transformer.encoder.layers.2.self_attn.attention_weights.{bias, weight}\u001b[0m\n",
      "\u001b[34mnetwork.sem_seg_head.pixel_decoder.transformer.encoder.layers.2.self_attn.output_proj.{bias, weight}\u001b[0m\n",
      "\u001b[34mnetwork.sem_seg_head.pixel_decoder.transformer.encoder.layers.2.self_attn.sampling_offsets.{bias, weight}\u001b[0m\n",
      "\u001b[34mnetwork.sem_seg_head.pixel_decoder.transformer.encoder.layers.2.self_attn.value_proj.{bias, weight}\u001b[0m\n",
      "\u001b[34mnetwork.sem_seg_head.pixel_decoder.transformer.encoder.layers.3.linear1.{bias, weight}\u001b[0m\n",
      "\u001b[34mnetwork.sem_seg_head.pixel_decoder.transformer.encoder.layers.3.linear2.{bias, weight}\u001b[0m\n",
      "\u001b[34mnetwork.sem_seg_head.pixel_decoder.transformer.encoder.layers.3.norm1.{bias, weight}\u001b[0m\n",
      "\u001b[34mnetwork.sem_seg_head.pixel_decoder.transformer.encoder.layers.3.norm2.{bias, weight}\u001b[0m\n",
      "\u001b[34mnetwork.sem_seg_head.pixel_decoder.transformer.encoder.layers.3.self_attn.attention_weights.{bias, weight}\u001b[0m\n",
      "\u001b[34mnetwork.sem_seg_head.pixel_decoder.transformer.encoder.layers.3.self_attn.output_proj.{bias, weight}\u001b[0m\n",
      "\u001b[34mnetwork.sem_seg_head.pixel_decoder.transformer.encoder.layers.3.self_attn.sampling_offsets.{bias, weight}\u001b[0m\n",
      "\u001b[34mnetwork.sem_seg_head.pixel_decoder.transformer.encoder.layers.3.self_attn.value_proj.{bias, weight}\u001b[0m\n",
      "\u001b[34mnetwork.sem_seg_head.pixel_decoder.transformer.encoder.layers.4.linear1.{bias, weight}\u001b[0m\n",
      "\u001b[34mnetwork.sem_seg_head.pixel_decoder.transformer.encoder.layers.4.linear2.{bias, weight}\u001b[0m\n",
      "\u001b[34mnetwork.sem_seg_head.pixel_decoder.transformer.encoder.layers.4.norm1.{bias, weight}\u001b[0m\n",
      "\u001b[34mnetwork.sem_seg_head.pixel_decoder.transformer.encoder.layers.4.norm2.{bias, weight}\u001b[0m\n",
      "\u001b[34mnetwork.sem_seg_head.pixel_decoder.transformer.encoder.layers.4.self_attn.attention_weights.{bias, weight}\u001b[0m\n",
      "\u001b[34mnetwork.sem_seg_head.pixel_decoder.transformer.encoder.layers.4.self_attn.output_proj.{bias, weight}\u001b[0m\n",
      "\u001b[34mnetwork.sem_seg_head.pixel_decoder.transformer.encoder.layers.4.self_attn.sampling_offsets.{bias, weight}\u001b[0m\n",
      "\u001b[34mnetwork.sem_seg_head.pixel_decoder.transformer.encoder.layers.4.self_attn.value_proj.{bias, weight}\u001b[0m\n",
      "\u001b[34mnetwork.sem_seg_head.pixel_decoder.transformer.encoder.layers.5.linear1.{bias, weight}\u001b[0m\n",
      "\u001b[34mnetwork.sem_seg_head.pixel_decoder.transformer.encoder.layers.5.linear2.{bias, weight}\u001b[0m\n",
      "\u001b[34mnetwork.sem_seg_head.pixel_decoder.transformer.encoder.layers.5.norm1.{bias, weight}\u001b[0m\n",
      "\u001b[34mnetwork.sem_seg_head.pixel_decoder.transformer.encoder.layers.5.norm2.{bias, weight}\u001b[0m\n",
      "\u001b[34mnetwork.sem_seg_head.pixel_decoder.transformer.encoder.layers.5.self_attn.attention_weights.{bias, weight}\u001b[0m\n",
      "\u001b[34mnetwork.sem_seg_head.pixel_decoder.transformer.encoder.layers.5.self_attn.output_proj.{bias, weight}\u001b[0m\n",
      "\u001b[34mnetwork.sem_seg_head.pixel_decoder.transformer.encoder.layers.5.self_attn.sampling_offsets.{bias, weight}\u001b[0m\n",
      "\u001b[34mnetwork.sem_seg_head.pixel_decoder.transformer.encoder.layers.5.self_attn.value_proj.{bias, weight}\u001b[0m\n",
      "\u001b[34mnetwork.sem_seg_head.pixel_decoder.transformer.level_embed\u001b[0m\n",
      "\u001b[34mnetwork.sem_seg_head.predictor.class_embed.{bias, weight}\u001b[0m\n",
      "\u001b[34mnetwork.sem_seg_head.predictor.decoder_norm.{bias, weight}\u001b[0m\n",
      "\u001b[34mnetwork.sem_seg_head.predictor.level_embed.weight\u001b[0m\n",
      "\u001b[34mnetwork.sem_seg_head.predictor.mask_embed.layers.0.{bias, weight}\u001b[0m\n",
      "\u001b[34mnetwork.sem_seg_head.predictor.mask_embed.layers.1.{bias, weight}\u001b[0m\n",
      "\u001b[34mnetwork.sem_seg_head.predictor.mask_embed.layers.2.{bias, weight}\u001b[0m\n",
      "\u001b[34mnetwork.sem_seg_head.predictor.query_embed.weight\u001b[0m\n",
      "\u001b[34mnetwork.sem_seg_head.predictor.query_feat.weight\u001b[0m\n",
      "\u001b[34mnetwork.sem_seg_head.predictor.transformer_cross_attention_layers.0.multihead_attn.out_proj.{bias, weight}\u001b[0m\n",
      "\u001b[34mnetwork.sem_seg_head.predictor.transformer_cross_attention_layers.0.multihead_attn.{in_proj_bias, in_proj_weight}\u001b[0m\n",
      "\u001b[34mnetwork.sem_seg_head.predictor.transformer_cross_attention_layers.0.norm.{bias, weight}\u001b[0m\n",
      "\u001b[34mnetwork.sem_seg_head.predictor.transformer_cross_attention_layers.1.multihead_attn.out_proj.{bias, weight}\u001b[0m\n",
      "\u001b[34mnetwork.sem_seg_head.predictor.transformer_cross_attention_layers.1.multihead_attn.{in_proj_bias, in_proj_weight}\u001b[0m\n",
      "\u001b[34mnetwork.sem_seg_head.predictor.transformer_cross_attention_layers.1.norm.{bias, weight}\u001b[0m\n",
      "\u001b[34mnetwork.sem_seg_head.predictor.transformer_cross_attention_layers.2.multihead_attn.out_proj.{bias, weight}\u001b[0m\n",
      "\u001b[34mnetwork.sem_seg_head.predictor.transformer_cross_attention_layers.2.multihead_attn.{in_proj_bias, in_proj_weight}\u001b[0m\n",
      "\u001b[34mnetwork.sem_seg_head.predictor.transformer_cross_attention_layers.2.norm.{bias, weight}\u001b[0m\n",
      "\u001b[34mnetwork.sem_seg_head.predictor.transformer_cross_attention_layers.3.multihead_attn.out_proj.{bias, weight}\u001b[0m\n",
      "\u001b[34mnetwork.sem_seg_head.predictor.transformer_cross_attention_layers.3.multihead_attn.{in_proj_bias, in_proj_weight}\u001b[0m\n",
      "\u001b[34mnetwork.sem_seg_head.predictor.transformer_cross_attention_layers.3.norm.{bias, weight}\u001b[0m\n",
      "\u001b[34mnetwork.sem_seg_head.predictor.transformer_cross_attention_layers.4.multihead_attn.out_proj.{bias, weight}\u001b[0m\n",
      "\u001b[34mnetwork.sem_seg_head.predictor.transformer_cross_attention_layers.4.multihead_attn.{in_proj_bias, in_proj_weight}\u001b[0m\n",
      "\u001b[34mnetwork.sem_seg_head.predictor.transformer_cross_attention_layers.4.norm.{bias, weight}\u001b[0m\n",
      "\u001b[34mnetwork.sem_seg_head.predictor.transformer_cross_attention_layers.5.multihead_attn.out_proj.{bias, weight}\u001b[0m\n",
      "\u001b[34mnetwork.sem_seg_head.predictor.transformer_cross_attention_layers.5.multihead_attn.{in_proj_bias, in_proj_weight}\u001b[0m\n",
      "\u001b[34mnetwork.sem_seg_head.predictor.transformer_cross_attention_layers.5.norm.{bias, weight}\u001b[0m\n",
      "\u001b[34mnetwork.sem_seg_head.predictor.transformer_cross_attention_layers.6.multihead_attn.out_proj.{bias, weight}\u001b[0m\n",
      "\u001b[34mnetwork.sem_seg_head.predictor.transformer_cross_attention_layers.6.multihead_attn.{in_proj_bias, in_proj_weight}\u001b[0m\n",
      "\u001b[34mnetwork.sem_seg_head.predictor.transformer_cross_attention_layers.6.norm.{bias, weight}\u001b[0m\n",
      "\u001b[34mnetwork.sem_seg_head.predictor.transformer_cross_attention_layers.7.multihead_attn.out_proj.{bias, weight}\u001b[0m\n",
      "\u001b[34mnetwork.sem_seg_head.predictor.transformer_cross_attention_layers.7.multihead_attn.{in_proj_bias, in_proj_weight}\u001b[0m\n",
      "\u001b[34mnetwork.sem_seg_head.predictor.transformer_cross_attention_layers.7.norm.{bias, weight}\u001b[0m\n",
      "\u001b[34mnetwork.sem_seg_head.predictor.transformer_cross_attention_layers.8.multihead_attn.out_proj.{bias, weight}\u001b[0m\n",
      "\u001b[34mnetwork.sem_seg_head.predictor.transformer_cross_attention_layers.8.multihead_attn.{in_proj_bias, in_proj_weight}\u001b[0m\n",
      "\u001b[34mnetwork.sem_seg_head.predictor.transformer_cross_attention_layers.8.norm.{bias, weight}\u001b[0m\n",
      "\u001b[34mnetwork.sem_seg_head.predictor.transformer_ffn_layers.0.linear1.{bias, weight}\u001b[0m\n",
      "\u001b[34mnetwork.sem_seg_head.predictor.transformer_ffn_layers.0.linear2.{bias, weight}\u001b[0m\n",
      "\u001b[34mnetwork.sem_seg_head.predictor.transformer_ffn_layers.0.norm.{bias, weight}\u001b[0m\n",
      "\u001b[34mnetwork.sem_seg_head.predictor.transformer_ffn_layers.1.linear1.{bias, weight}\u001b[0m\n",
      "\u001b[34mnetwork.sem_seg_head.predictor.transformer_ffn_layers.1.linear2.{bias, weight}\u001b[0m\n",
      "\u001b[34mnetwork.sem_seg_head.predictor.transformer_ffn_layers.1.norm.{bias, weight}\u001b[0m\n",
      "\u001b[34mnetwork.sem_seg_head.predictor.transformer_ffn_layers.2.linear1.{bias, weight}\u001b[0m\n",
      "\u001b[34mnetwork.sem_seg_head.predictor.transformer_ffn_layers.2.linear2.{bias, weight}\u001b[0m\n",
      "\u001b[34mnetwork.sem_seg_head.predictor.transformer_ffn_layers.2.norm.{bias, weight}\u001b[0m\n",
      "\u001b[34mnetwork.sem_seg_head.predictor.transformer_ffn_layers.3.linear1.{bias, weight}\u001b[0m\n",
      "\u001b[34mnetwork.sem_seg_head.predictor.transformer_ffn_layers.3.linear2.{bias, weight}\u001b[0m\n",
      "\u001b[34mnetwork.sem_seg_head.predictor.transformer_ffn_layers.3.norm.{bias, weight}\u001b[0m\n",
      "\u001b[34mnetwork.sem_seg_head.predictor.transformer_ffn_layers.4.linear1.{bias, weight}\u001b[0m\n",
      "\u001b[34mnetwork.sem_seg_head.predictor.transformer_ffn_layers.4.linear2.{bias, weight}\u001b[0m\n",
      "\u001b[34mnetwork.sem_seg_head.predictor.transformer_ffn_layers.4.norm.{bias, weight}\u001b[0m\n",
      "\u001b[34mnetwork.sem_seg_head.predictor.transformer_ffn_layers.5.linear1.{bias, weight}\u001b[0m\n",
      "\u001b[34mnetwork.sem_seg_head.predictor.transformer_ffn_layers.5.linear2.{bias, weight}\u001b[0m\n",
      "\u001b[34mnetwork.sem_seg_head.predictor.transformer_ffn_layers.5.norm.{bias, weight}\u001b[0m\n",
      "\u001b[34mnetwork.sem_seg_head.predictor.transformer_ffn_layers.6.linear1.{bias, weight}\u001b[0m\n",
      "\u001b[34mnetwork.sem_seg_head.predictor.transformer_ffn_layers.6.linear2.{bias, weight}\u001b[0m\n",
      "\u001b[34mnetwork.sem_seg_head.predictor.transformer_ffn_layers.6.norm.{bias, weight}\u001b[0m\n",
      "\u001b[34mnetwork.sem_seg_head.predictor.transformer_ffn_layers.7.linear1.{bias, weight}\u001b[0m\n",
      "\u001b[34mnetwork.sem_seg_head.predictor.transformer_ffn_layers.7.linear2.{bias, weight}\u001b[0m\n",
      "\u001b[34mnetwork.sem_seg_head.predictor.transformer_ffn_layers.7.norm.{bias, weight}\u001b[0m\n",
      "\u001b[34mnetwork.sem_seg_head.predictor.transformer_ffn_layers.8.linear1.{bias, weight}\u001b[0m\n",
      "\u001b[34mnetwork.sem_seg_head.predictor.transformer_ffn_layers.8.linear2.{bias, weight}\u001b[0m\n",
      "\u001b[34mnetwork.sem_seg_head.predictor.transformer_ffn_layers.8.norm.{bias, weight}\u001b[0m\n",
      "\u001b[34mnetwork.sem_seg_head.predictor.transformer_self_attention_layers.0.norm.{bias, weight}\u001b[0m\n",
      "\u001b[34mnetwork.sem_seg_head.predictor.transformer_self_attention_layers.0.self_attn.out_proj.{bias, weight}\u001b[0m\n",
      "\u001b[34mnetwork.sem_seg_head.predictor.transformer_self_attention_layers.0.self_attn.{in_proj_bias, in_proj_weight}\u001b[0m\n",
      "\u001b[34mnetwork.sem_seg_head.predictor.transformer_self_attention_layers.1.norm.{bias, weight}\u001b[0m\n",
      "\u001b[34mnetwork.sem_seg_head.predictor.transformer_self_attention_layers.1.self_attn.out_proj.{bias, weight}\u001b[0m\n",
      "\u001b[34mnetwork.sem_seg_head.predictor.transformer_self_attention_layers.1.self_attn.{in_proj_bias, in_proj_weight}\u001b[0m\n",
      "\u001b[34mnetwork.sem_seg_head.predictor.transformer_self_attention_layers.2.norm.{bias, weight}\u001b[0m\n",
      "\u001b[34mnetwork.sem_seg_head.predictor.transformer_self_attention_layers.2.self_attn.out_proj.{bias, weight}\u001b[0m\n",
      "\u001b[34mnetwork.sem_seg_head.predictor.transformer_self_attention_layers.2.self_attn.{in_proj_bias, in_proj_weight}\u001b[0m\n",
      "\u001b[34mnetwork.sem_seg_head.predictor.transformer_self_attention_layers.3.norm.{bias, weight}\u001b[0m\n",
      "\u001b[34mnetwork.sem_seg_head.predictor.transformer_self_attention_layers.3.self_attn.out_proj.{bias, weight}\u001b[0m\n",
      "\u001b[34mnetwork.sem_seg_head.predictor.transformer_self_attention_layers.3.self_attn.{in_proj_bias, in_proj_weight}\u001b[0m\n",
      "\u001b[34mnetwork.sem_seg_head.predictor.transformer_self_attention_layers.4.norm.{bias, weight}\u001b[0m\n",
      "\u001b[34mnetwork.sem_seg_head.predictor.transformer_self_attention_layers.4.self_attn.out_proj.{bias, weight}\u001b[0m\n",
      "\u001b[34mnetwork.sem_seg_head.predictor.transformer_self_attention_layers.4.self_attn.{in_proj_bias, in_proj_weight}\u001b[0m\n",
      "\u001b[34mnetwork.sem_seg_head.predictor.transformer_self_attention_layers.5.norm.{bias, weight}\u001b[0m\n",
      "\u001b[34mnetwork.sem_seg_head.predictor.transformer_self_attention_layers.5.self_attn.out_proj.{bias, weight}\u001b[0m\n",
      "\u001b[34mnetwork.sem_seg_head.predictor.transformer_self_attention_layers.5.self_attn.{in_proj_bias, in_proj_weight}\u001b[0m\n",
      "\u001b[34mnetwork.sem_seg_head.predictor.transformer_self_attention_layers.6.norm.{bias, weight}\u001b[0m\n",
      "\u001b[34mnetwork.sem_seg_head.predictor.transformer_self_attention_layers.6.self_attn.out_proj.{bias, weight}\u001b[0m\n",
      "\u001b[34mnetwork.sem_seg_head.predictor.transformer_self_attention_layers.6.self_attn.{in_proj_bias, in_proj_weight}\u001b[0m\n",
      "\u001b[34mnetwork.sem_seg_head.predictor.transformer_self_attention_layers.7.norm.{bias, weight}\u001b[0m\n",
      "\u001b[34mnetwork.sem_seg_head.predictor.transformer_self_attention_layers.7.self_attn.out_proj.{bias, weight}\u001b[0m\n",
      "\u001b[34mnetwork.sem_seg_head.predictor.transformer_self_attention_layers.7.self_attn.{in_proj_bias, in_proj_weight}\u001b[0m\n",
      "\u001b[34mnetwork.sem_seg_head.predictor.transformer_self_attention_layers.8.norm.{bias, weight}\u001b[0m\n",
      "\u001b[34mnetwork.sem_seg_head.predictor.transformer_self_attention_layers.8.self_attn.out_proj.{bias, weight}\u001b[0m\n",
      "\u001b[34mnetwork.sem_seg_head.predictor.transformer_self_attention_layers.8.self_attn.{in_proj_bias, in_proj_weight}\u001b[0m\n",
      "The checkpoint state_dict contains keys that are not used by the model:\n",
      "  \u001b[35mRGB_branch.head.{bias, weight}\u001b[0m\n",
      "  \u001b[35mRGB_branch.layers.0.blocks.1.attn_mask\u001b[0m\n",
      "  \u001b[35mRGB_branch.layers.1.blocks.1.attn_mask\u001b[0m\n",
      "  \u001b[35mRGB_branch.layers.2.blocks.1.attn_mask\u001b[0m\n",
      "  \u001b[35mRGB_branch.layers.2.blocks.11.attn_mask\u001b[0m\n",
      "  \u001b[35mRGB_branch.layers.2.blocks.13.attn_mask\u001b[0m\n",
      "  \u001b[35mRGB_branch.layers.2.blocks.15.attn_mask\u001b[0m\n",
      "  \u001b[35mRGB_branch.layers.2.blocks.17.attn_mask\u001b[0m\n",
      "  \u001b[35mRGB_branch.layers.2.blocks.3.attn_mask\u001b[0m\n",
      "  \u001b[35mRGB_branch.layers.2.blocks.5.attn_mask\u001b[0m\n",
      "  \u001b[35mRGB_branch.layers.2.blocks.7.attn_mask\u001b[0m\n",
      "  \u001b[35mRGB_branch.layers.2.blocks.9.attn_mask\u001b[0m\n",
      "  \u001b[35mRGB_branch.norm.{bias, weight}\u001b[0m\n",
      "  \u001b[35mTHR_branch.head.{bias, weight}\u001b[0m\n",
      "  \u001b[35mTHR_branch.layers.0.blocks.1.attn_mask\u001b[0m\n",
      "  \u001b[35mTHR_branch.layers.1.blocks.1.attn_mask\u001b[0m\n",
      "  \u001b[35mTHR_branch.layers.2.blocks.1.attn_mask\u001b[0m\n",
      "  \u001b[35mTHR_branch.layers.2.blocks.11.attn_mask\u001b[0m\n",
      "  \u001b[35mTHR_branch.layers.2.blocks.13.attn_mask\u001b[0m\n",
      "  \u001b[35mTHR_branch.layers.2.blocks.15.attn_mask\u001b[0m\n",
      "  \u001b[35mTHR_branch.layers.2.blocks.17.attn_mask\u001b[0m\n",
      "  \u001b[35mTHR_branch.layers.2.blocks.3.attn_mask\u001b[0m\n",
      "  \u001b[35mTHR_branch.layers.2.blocks.5.attn_mask\u001b[0m\n",
      "  \u001b[35mTHR_branch.layers.2.blocks.7.attn_mask\u001b[0m\n",
      "  \u001b[35mTHR_branch.layers.2.blocks.9.attn_mask\u001b[0m\n",
      "  \u001b[35mTHR_branch.norm.{bias, weight}\u001b[0m\n",
      "/opt/conda/envs/bees0006-rgbtseg/lib/python3.10/site-packages/pytorch_lightning/trainer/connectors/accelerator_connector.py:478: LightningDeprecationWarning: Setting `Trainer(gpus=1)` is deprecated in v1.7 and will be removed in v2.0. Please use `Trainer(accelerator='gpu', devices=1)` instead.\n",
      "  rank_zero_deprecation(\n",
      "GPU available: True (cuda), used: True\n",
      "TPU available: False, using: 0 TPU cores\n",
      "IPU available: False, using: 0 IPUs\n",
      "HPU available: False, using: 0 HPUs\n",
      "/opt/conda/envs/bees0006-rgbtseg/lib/python3.10/site-packages/pytorch_lightning/callbacks/model_checkpoint.py:613: UserWarning: Checkpoint directory ./checkpoints/penguins_v1 exists and is not empty.\n",
      "  rank_zero_warn(f\"Checkpoint directory {dirpath} exists and is not empty.\")\n",
      "LOCAL_RANK: 0 - CUDA_VISIBLE_DEVICES: [0]\n",
      "\n",
      "  | Name    | Type           | Params\n",
      "-------------------------------------------\n",
      "0 | network | RGBTMaskFormer | 193 M \n",
      "-------------------------------------------\n",
      "193 M     Trainable params\n",
      "0         Non-trainable params\n",
      "193 M     Total params\n",
      "773.975   Total estimated model params size (MB)\n"
     ]
    },
    {
     "data": {
      "application/vnd.jupyter.widget-view+json": {
       "model_id": "",
       "version_major": 2,
       "version_minor": 0
      },
      "text/plain": [
       "Sanity Checking: 0it [00:00, ?it/s]"
      ]
     },
     "metadata": {},
     "output_type": "display_data"
    },
    {
     "data": {
      "application/vnd.jupyter.widget-view+json": {
       "model_id": "d658729ac01741e3a8f11280a387dcb1",
       "version_major": 2,
       "version_minor": 0
      },
      "text/plain": [
       "Training: 0it [00:00, ?it/s]"
      ]
     },
     "metadata": {},
     "output_type": "display_data"
    },
    {
     "data": {
      "application/vnd.jupyter.widget-view+json": {
       "model_id": "",
       "version_major": 2,
       "version_minor": 0
      },
      "text/plain": [
       "Validation: 0it [00:00, ?it/s]"
      ]
     },
     "metadata": {},
     "output_type": "display_data"
    },
    {
     "data": {
      "application/vnd.jupyter.widget-view+json": {
       "model_id": "",
       "version_major": 2,
       "version_minor": 0
      },
      "text/plain": [
       "Validation: 0it [00:00, ?it/s]"
      ]
     },
     "metadata": {},
     "output_type": "display_data"
    },
    {
     "data": {
      "application/vnd.jupyter.widget-view+json": {
       "model_id": "",
       "version_major": 2,
       "version_minor": 0
      },
      "text/plain": [
       "Validation: 0it [00:00, ?it/s]"
      ]
     },
     "metadata": {},
     "output_type": "display_data"
    },
    {
     "data": {
      "application/vnd.jupyter.widget-view+json": {
       "model_id": "",
       "version_major": 2,
       "version_minor": 0
      },
      "text/plain": [
       "Validation: 0it [00:00, ?it/s]"
      ]
     },
     "metadata": {},
     "output_type": "display_data"
    },
    {
     "data": {
      "application/vnd.jupyter.widget-view+json": {
       "model_id": "",
       "version_major": 2,
       "version_minor": 0
      },
      "text/plain": [
       "Validation: 0it [00:00, ?it/s]"
      ]
     },
     "metadata": {},
     "output_type": "display_data"
    },
    {
     "data": {
      "application/vnd.jupyter.widget-view+json": {
       "model_id": "",
       "version_major": 2,
       "version_minor": 0
      },
      "text/plain": [
       "Validation: 0it [00:00, ?it/s]"
      ]
     },
     "metadata": {},
     "output_type": "display_data"
    },
    {
     "data": {
      "application/vnd.jupyter.widget-view+json": {
       "model_id": "",
       "version_major": 2,
       "version_minor": 0
      },
      "text/plain": [
       "Validation: 0it [00:00, ?it/s]"
      ]
     },
     "metadata": {},
     "output_type": "display_data"
    },
    {
     "data": {
      "application/vnd.jupyter.widget-view+json": {
       "model_id": "",
       "version_major": 2,
       "version_minor": 0
      },
      "text/plain": [
       "Validation: 0it [00:00, ?it/s]"
      ]
     },
     "metadata": {},
     "output_type": "display_data"
    },
    {
     "data": {
      "application/vnd.jupyter.widget-view+json": {
       "model_id": "",
       "version_major": 2,
       "version_minor": 0
      },
      "text/plain": [
       "Validation: 0it [00:00, ?it/s]"
      ]
     },
     "metadata": {},
     "output_type": "display_data"
    },
    {
     "data": {
      "application/vnd.jupyter.widget-view+json": {
       "model_id": "",
       "version_major": 2,
       "version_minor": 0
      },
      "text/plain": [
       "Validation: 0it [00:00, ?it/s]"
      ]
     },
     "metadata": {},
     "output_type": "display_data"
    },
    {
     "data": {
      "application/vnd.jupyter.widget-view+json": {
       "model_id": "",
       "version_major": 2,
       "version_minor": 0
      },
      "text/plain": [
       "Validation: 0it [00:00, ?it/s]"
      ]
     },
     "metadata": {},
     "output_type": "display_data"
    },
    {
     "data": {
      "application/vnd.jupyter.widget-view+json": {
       "model_id": "",
       "version_major": 2,
       "version_minor": 0
      },
      "text/plain": [
       "Validation: 0it [00:00, ?it/s]"
      ]
     },
     "metadata": {},
     "output_type": "display_data"
    },
    {
     "data": {
      "application/vnd.jupyter.widget-view+json": {
       "model_id": "",
       "version_major": 2,
       "version_minor": 0
      },
      "text/plain": [
       "Validation: 0it [00:00, ?it/s]"
      ]
     },
     "metadata": {},
     "output_type": "display_data"
    },
    {
     "data": {
      "application/vnd.jupyter.widget-view+json": {
       "model_id": "",
       "version_major": 2,
       "version_minor": 0
      },
      "text/plain": [
       "Validation: 0it [00:00, ?it/s]"
      ]
     },
     "metadata": {},
     "output_type": "display_data"
    },
    {
     "data": {
      "application/vnd.jupyter.widget-view+json": {
       "model_id": "",
       "version_major": 2,
       "version_minor": 0
      },
      "text/plain": [
       "Validation: 0it [00:00, ?it/s]"
      ]
     },
     "metadata": {},
     "output_type": "display_data"
    },
    {
     "data": {
      "application/vnd.jupyter.widget-view+json": {
       "model_id": "",
       "version_major": 2,
       "version_minor": 0
      },
      "text/plain": [
       "Validation: 0it [00:00, ?it/s]"
      ]
     },
     "metadata": {},
     "output_type": "display_data"
    },
    {
     "data": {
      "application/vnd.jupyter.widget-view+json": {
       "model_id": "",
       "version_major": 2,
       "version_minor": 0
      },
      "text/plain": [
       "Validation: 0it [00:00, ?it/s]"
      ]
     },
     "metadata": {},
     "output_type": "display_data"
    },
    {
     "data": {
      "application/vnd.jupyter.widget-view+json": {
       "model_id": "",
       "version_major": 2,
       "version_minor": 0
      },
      "text/plain": [
       "Validation: 0it [00:00, ?it/s]"
      ]
     },
     "metadata": {},
     "output_type": "display_data"
    },
    {
     "data": {
      "application/vnd.jupyter.widget-view+json": {
       "model_id": "",
       "version_major": 2,
       "version_minor": 0
      },
      "text/plain": [
       "Validation: 0it [00:00, ?it/s]"
      ]
     },
     "metadata": {},
     "output_type": "display_data"
    },
    {
     "data": {
      "application/vnd.jupyter.widget-view+json": {
       "model_id": "",
       "version_major": 2,
       "version_minor": 0
      },
      "text/plain": [
       "Validation: 0it [00:00, ?it/s]"
      ]
     },
     "metadata": {},
     "output_type": "display_data"
    },
    {
     "name": "stderr",
     "output_type": "stream",
     "text": [
      "`Trainer.fit` stopped: `max_epochs=20` reached.\n"
     ]
    },
    {
     "data": {
      "image/png": "[encoded data removed]",
      "text/plain": [
       "<Figure size 640x480 with 1 Axes>"
      ]
     },
     "metadata": {},
     "output_type": "display_data"
    },
    {
     "data": {
      "image/png": "[encoded data removed]",
      "text/plain": [
       "<Figure size 1600x1000 with 4 Axes>"
      ]
     },
     "metadata": {},
     "output_type": "display_data"
    }
   ],
   "source": [
    "# Written by Ukcheol Shin, Jan. 24, 2023\n",
    "# Email: shinwc159@gmail.com\n",
    "\n",
    "import os\n",
    "import os.path as osp\n",
    "from mmcv import Config\n",
    "import numpy as np\n",
    "from pytorch_lightning import Trainer, seed_everything\n",
    "from pytorch_lightning.callbacks import ModelCheckpoint\n",
    "from torch.utils.data import DataLoader\n",
    "import torch\n",
    "from models import MODELS\n",
    "from dataloaders import build_dataset\n",
    "# MaskFormer\n",
    "from detectron2.config import get_cfg\n",
    "from detectron2.engine import default_setup\n",
    "from detectron2.projects.deeplab import add_deeplab_config\n",
    "from models.mask2former import add_maskformer2_config\n",
    "from models.config import add_CRM_config\n",
    "from util.RGBTCheckpointer import RGBTCheckpointer\n",
    "from util.util import aggregate_by_node, load_logs, training_perf, confusion_matrix\n",
    "import json\n",
    "\n",
    "\n",
    "class DotDict(dict):\n",
    "    def __getattr__(self, attr):\n",
    "        return self[attr]\n",
    "    \n",
    "    def __setattr__(self, attr, value):\n",
    "        self[attr] = value\n",
    "\n",
    "\n",
    "def my_collate_fn(batch_dict):\n",
    "    return batch_dict\n",
    "\n",
    "\n",
    "def setup(args):\n",
    "    \"\"\"\n",
    "    Create configs and perform basic setups.\n",
    "    \"\"\"\n",
    "    cfg = get_cfg()\n",
    "    add_deeplab_config(cfg)\n",
    "    # print(json.dumps(cfg, indent=4))\n",
    "    add_maskformer2_config(cfg)\n",
    "    add_CRM_config(cfg)\n",
    "    cfg.merge_from_file(args.config_file)\n",
    "    cfg.freeze()\n",
    "    return cfg\n",
    "\n",
    "\n",
    "def main(args):\n",
    "    # parse args\n",
    "    cfg  = setup(args)\n",
    "    # Added by CINJ so this works\n",
    "    torch.multiprocessing.set_sharing_strategy('file_descriptor')\n",
    "    torch.set_float32_matmul_precision('high')\n",
    "    \n",
    "    print(f'Now training with {args.config_file}...')\n",
    "\n",
    "    # configure seed\n",
    "    seed_everything(args.seed)\n",
    "    \n",
    "    # prepare data loader\n",
    "    dataset = build_dataset(cfg)\n",
    "    train_loader = DataLoader(dataset['train'], cfg.SOLVER.IMS_PER_BATCH, shuffle=True, num_workers=cfg.DATASETS.WORKERS_PER_GPU, drop_last=True, collate_fn=my_collate_fn)\n",
    "    val_loader   = DataLoader(dataset['test'], cfg.SOLVER.IMS_PER_BATCH, shuffle=False, num_workers=cfg.DATASETS.WORKERS_PER_GPU, drop_last=True, collate_fn=my_collate_fn)\n",
    "\n",
    "    # define model\n",
    "    model = MODELS.build(name=cfg.MODEL.META_ARCHITECTURE, option=cfg)\n",
    "    if cfg.MODEL.META_ARCHITECTURE in {\"RGBTMaskFormer\"}:\n",
    "        RGBTCheckpointer(model).resume_or_load(cfg.MODEL.WEIGHTS)\n",
    "    if args.checkpoint:\n",
    "        model.load_state_dict(torch.load(args.checkpoint)['state_dict'])\n",
    "\n",
    "    # define trainer\n",
    "    work_dir = osp.join(args.work_dir, args.name)\n",
    "    checkpoint_callback = ModelCheckpoint(\n",
    "                                        dirpath=work_dir,\n",
    "                                        save_weights_only=False,\n",
    "                                        monitor='train/total_loss',\n",
    "                                        mode='min',\n",
    "                                        save_top_k=1,\n",
    "                                        filename='checkpoint_{epoch:02d}_{step}',\n",
    "                                        every_n_epochs=1\n",
    "                                        )\n",
    "\n",
    "    trainer = Trainer(strategy='ddp' if args.num_gpus > 1 else None,\n",
    "                      default_root_dir=work_dir,\n",
    "                      gpus=args.num_gpus,\n",
    "                      num_nodes=1,\n",
    "                      max_epochs=cfg.SOLVER.MAX_ITER,\n",
    "                      # max_steps=cfg.SOLVER.MAX_ITER,\n",
    "                      callbacks=[checkpoint_callback],\n",
    "                      check_val_every_n_epoch=1)\n",
    "                      # precision=16)\n",
    "\n",
    "    # training\n",
    "    trainer.fit(model, train_loader, val_loader)\n",
    "    logs = load_logs(cfg.SAVE.DIR_ROOT)\n",
    "    iou = np.array(aggregate_by_node(\"iou\", logs))\n",
    "    precision = np.array(aggregate_by_node(\"precision\", logs))\n",
    "    recall = np.array(aggregate_by_node(\"recall\", logs))\n",
    "    loss = np.array(aggregate_by_node(\"loss\", logs))\n",
    "    tp = np.array(aggregate_by_node(\"tp\", logs))\n",
    "    tn = np.array(aggregate_by_node(\"tn\", logs))\n",
    "    fp = np.array(aggregate_by_node(\"fp\", logs))\n",
    "    fn = np.array(aggregate_by_node(\"fn\", logs))\n",
    "    ca = np.array(aggregate_by_node(\"ca\", logs))\n",
    "    confusion_matrix([[np.mean(tp), np.mean(fp)],[np.mean(fn), np.mean(tn)]])\n",
    "    training_perf(loss, precision, recall, iou, ca)\n",
    "\n",
    "\n",
    "my_args: DotDict = DotDict()\n",
    "my_args.config_file = \"./configs/PV1dataset/swin/CRM_swin_base_224.yaml\"\n",
    "my_args.seed = 1024\n",
    "my_args.num_gpus = 1\n",
    "my_args.work_dir = \"./checkpoints\"\n",
    "my_args.name = \"penguins_v1\"\n",
    "my_args.checkpoint = None  # \"./checkpoints/penguins_v1/saved_checkpoint.ckpt\"\n",
    "os.environ[\"CUDA_VISIBLE_DEVICES\"]=\"0\"\n",
    "main(my_args)"
   ]
  }
 ],
 "metadata": {
  "kernelspec": {
   "display_name": "Python [conda env:bees0006-rgbtseg] *",
   "language": "python",
   "name": "conda-env-bees0006-rgbtseg-py"
  },
  "language_info": {
   "codemirror_mode": {
    "name": "ipython",
    "version": 3
   },
   "file_extension": ".py",
   "mimetype": "text/x-python",
   "name": "python",
   "nbconvert_exporter": "python",
   "pygments_lexer": "ipython3",
   "version": "3.10.14"
  }
 },
 "nbformat": 4,
 "nbformat_minor": 5
}
